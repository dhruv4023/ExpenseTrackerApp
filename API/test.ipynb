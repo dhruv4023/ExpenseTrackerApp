{
 "cells": [
  {
   "cell_type": "markdown",
   "metadata": {},
   "source": [
    "# Test Expense Tracker API"
   ]
  },
  {
   "cell_type": "code",
   "execution_count": 23,
   "metadata": {},
   "outputs": [],
   "source": [
    "import requests\n",
    "import json"
   ]
  },
  {
   "cell_type": "code",
   "execution_count": 24,
   "metadata": {},
   "outputs": [],
   "source": [
    "walletId=\"tst_2024\""
   ]
  },
  {
   "cell_type": "markdown",
   "metadata": {},
   "source": [
    "## 1. Auth"
   ]
  },
  {
   "cell_type": "code",
   "execution_count": 25,
   "metadata": {},
   "outputs": [
    {
     "name": "stderr",
     "output_type": "stream",
     "text": [
      "DEBUG:urllib3.connectionpool:Starting new HTTP connection (1): localhost:5000\n",
      "DEBUG:urllib3.connectionpool:http://localhost:5000 \"POST /api/auth/login HTTP/1.1\" 200 427\n"
     ]
    },
    {
     "name": "stdout",
     "output_type": "stream",
     "text": [
      "Login Success\n"
     ]
    }
   ],
   "source": [
    "\n",
    "url = \"http://localhost:5000/api/auth/login\"\n",
    "\n",
    "payload = json.dumps({\n",
    "  \"uid\": \"tst\",\n",
    "  \"password\": \"test123\"\n",
    "})\n",
    "headers = {\n",
    "  'Content-Type': 'application/json'\n",
    "}\n",
    "\n",
    "response = requests.request(\"POST\", url, headers=headers, data=payload).json()\n",
    "\n",
    "# Assert that the \"success\" key is True\n",
    "assert response[\"success\"] == True, response\n",
    "\n",
    "token = response[\"data\"][\"token\"]\n",
    "\n",
    "print(\"Login Success\")\n",
    "\n",
    "import time\n",
    "time.sleep(5)"
   ]
  },
  {
   "cell_type": "markdown",
   "metadata": {},
   "source": [
    "## 2. Wallet"
   ]
  },
  {
   "cell_type": "code",
   "execution_count": 49,
   "metadata": {},
   "outputs": [
    {
     "name": "stderr",
     "output_type": "stream",
     "text": [
      "DEBUG:urllib3.connectionpool:Starting new HTTP connection (1): localhost:5000\n",
      "DEBUG:urllib3.connectionpool:http://localhost:5000 \"GET /api/wallet/get HTTP/1.1\" 200 216\n"
     ]
    },
    {
     "name": "stdout",
     "output_type": "stream",
     "text": [
      "{'success': True, 'message': 'wallet retrived successfully', 'data': {'wallets': [{'_id': 'tst_2024', 'year': '2024'}]}}\n"
     ]
    }
   ],
   "source": [
    "\n",
    "url = \"http://localhost:5000/api/wallet/get\"\n",
    "\n",
    "headers = {\"Authorization\": \"Bearer \" + token}\n",
    "\n",
    "response = requests.request(\"GET\", url, headers=headers).json()\n",
    "\n",
    "assert response[\"success\"] == True, response\n",
    "print(response)"
   ]
  },
  {
   "cell_type": "markdown",
   "metadata": {},
   "source": [
    "## 3. Account & Label"
   ]
  },
  {
   "cell_type": "code",
   "execution_count": 29,
   "metadata": {},
   "outputs": [
    {
     "name": "stderr",
     "output_type": "stream",
     "text": [
      "DEBUG:urllib3.connectionpool:Starting new HTTP connection (1): 127.0.0.1:5000\n",
      "DEBUG:urllib3.connectionpool:http://127.0.0.1:5000 \"POST /api/account/add HTTP/1.1\" 200 127\n"
     ]
    },
    {
     "name": "stdout",
     "output_type": "stream",
     "text": [
      "{'success': True, 'message': 'Account added successfully', 'data': {'accountId': '17217486522034'}}\n"
     ]
    }
   ],
   "source": [
    "import requests\n",
    "import json\n",
    "\n",
    "url = \"http://127.0.0.1:5000/api/account/add\"\n",
    "payload = json.dumps({\"accountName\": \"7373\"})\n",
    "headers = {\"Authorization\": \"Bearer \" + token, \"Content-Type\": \"application/json\"}\n",
    "\n",
    "response = requests.request(\"POST\", url, headers=headers, data=payload).json()\n",
    "assert response[\"success\"] == True, response\n",
    "account_7373_id = response[\"data\"][\"accountId\"]\n",
    "print(response)"
   ]
  },
  {
   "cell_type": "code",
   "execution_count": 30,
   "metadata": {},
   "outputs": [
    {
     "name": "stderr",
     "output_type": "stream",
     "text": [
      "DEBUG:urllib3.connectionpool:Starting new HTTP connection (1): 127.0.0.1:5000\n",
      "DEBUG:urllib3.connectionpool:http://127.0.0.1:5000 \"POST /api/label/add HTTP/1.1\" 200 123\n"
     ]
    },
    {
     "name": "stdout",
     "output_type": "stream",
     "text": [
      "{'success': True, 'message': 'Label added successfully', 'data': {'labelId': '17217486522115'}}\n"
     ]
    }
   ],
   "source": [
    "import requests\n",
    "import json\n",
    "\n",
    "url = \"http://127.0.0.1:5000/api/label/add\"\n",
    "payload = json.dumps(\n",
    "    {\n",
    "        \"labelName\": \"food\",\n",
    "    }\n",
    ")\n",
    "headers = {\"Authorization\": \"Bearer \" + token, \"Content-Type\": \"application/json\"}\n",
    "\n",
    "response = requests.request(\"POST\", url, headers=headers,data=payload).json()\n",
    "label_food_id = response[\"data\"][\"labelId\"]\n",
    "assert response[\"success\"] == True, response\n",
    "print(response)"
   ]
  },
  {
   "cell_type": "code",
   "execution_count": 31,
   "metadata": {},
   "outputs": [
    {
     "name": "stderr",
     "output_type": "stream",
     "text": [
      "DEBUG:urllib3.connectionpool:Starting new HTTP connection (1): 127.0.0.1:5000\n",
      "DEBUG:urllib3.connectionpool:http://127.0.0.1:5000 \"PUT /api/label/set/default/17217486522115 HTTP/1.1\" 200 94\n"
     ]
    },
    {
     "name": "stdout",
     "output_type": "stream",
     "text": [
      "{'success': True, 'message': 'Default label updated successfully', 'data': None}\n"
     ]
    }
   ],
   "source": [
    "import requests\n",
    "\n",
    "url = f\"http://127.0.0.1:5000/api/label/set/default/{label_food_id}\"\n",
    "\n",
    "payload = {}\n",
    "headers = {\"Authorization\": \"Bearer \" + token}\n",
    "\n",
    "response = requests.request(\"PUT\", url, headers=headers, data=payload).json()\n",
    "\n",
    "assert response[\"success\"] == True, response\n",
    "print(response)"
   ]
  },
  {
   "cell_type": "code",
   "execution_count": 32,
   "metadata": {},
   "outputs": [
    {
     "name": "stderr",
     "output_type": "stream",
     "text": [
      "DEBUG:urllib3.connectionpool:Starting new HTTP connection (1): 127.0.0.1:5000\n",
      "DEBUG:urllib3.connectionpool:http://127.0.0.1:5000 \"PUT /api/account/set/default/17217486522034 HTTP/1.1\" 200 96\n"
     ]
    },
    {
     "name": "stdout",
     "output_type": "stream",
     "text": [
      "{'success': True, 'message': 'Default Account updated successfully', 'data': None}\n"
     ]
    }
   ],
   "source": [
    "import requests\n",
    "\n",
    "url = f\"http://127.0.0.1:5000/api/account/set/default/{account_7373_id}\"\n",
    "\n",
    "payload = {}\n",
    "headers = {\"Authorization\": \"Bearer \" + token}\n",
    "\n",
    "response = requests.request(\"PUT\", url, headers=headers, data=payload).json()\n",
    "\n",
    "assert response[\"success\"] == True, response\n",
    "print(response)"
   ]
  },
  {
   "cell_type": "code",
   "execution_count": 33,
   "metadata": {},
   "outputs": [
    {
     "name": "stderr",
     "output_type": "stream",
     "text": [
      "DEBUG:urllib3.connectionpool:Starting new HTTP connection (1): 127.0.0.1:5000\n",
      "DEBUG:urllib3.connectionpool:http://127.0.0.1:5000 \"PUT /api/label/edit/name/label/17217486522115 HTTP/1.1\" 200 91\n"
     ]
    },
    {
     "name": "stdout",
     "output_type": "stream",
     "text": [
      "{'success': True, 'message': 'Label name updated successfully', 'data': None}\n"
     ]
    }
   ],
   "source": [
    "import requests\n",
    "import json\n",
    "\n",
    "url = f\"http://127.0.0.1:5000/api/label/edit/name/label/{label_food_id}\"\n",
    "\n",
    "payload = json.dumps({\"newLabelName\": \"xyz\"})\n",
    "headers = {\"Authorization\": \"Bearer \" + token, \"Content-Type\": \"application/json\"}\n",
    "\n",
    "response = requests.request(\"PUT\", url, headers=headers, data=payload).json()\n",
    "\n",
    "assert response[\"success\"] == True, response\n",
    "print(response)"
   ]
  },
  {
   "cell_type": "code",
   "execution_count": 34,
   "metadata": {},
   "outputs": [
    {
     "name": "stderr",
     "output_type": "stream",
     "text": [
      "DEBUG:urllib3.connectionpool:Starting new HTTP connection (1): 127.0.0.1:5000\n",
      "DEBUG:urllib3.connectionpool:http://127.0.0.1:5000 \"PUT /api/account/edit/name/account/17217486522034 HTTP/1.1\" 200 93\n"
     ]
    },
    {
     "name": "stdout",
     "output_type": "stream",
     "text": [
      "{'success': True, 'message': 'Account name updated successfully', 'data': None}\n"
     ]
    }
   ],
   "source": [
    "import requests\n",
    "import json\n",
    "\n",
    "url = f\"http://127.0.0.1:5000/api/account/edit/name/account/{account_7373_id}\"\n",
    "\n",
    "payload = json.dumps({\"newAccountName\": \"1660\"})\n",
    "headers = {\"Authorization\": \"Bearer \" + token, \"Content-Type\": \"application/json\"}\n",
    "\n",
    "response = requests.request(\"PUT\", url, headers=headers, data=payload).json()\n",
    "\n",
    "assert response[\"success\"] == True, response\n",
    "print(response)"
   ]
  },
  {
   "cell_type": "code",
   "execution_count": 56,
   "metadata": {},
   "outputs": [
    {
     "name": "stderr",
     "output_type": "stream",
     "text": [
      "DEBUG:urllib3.connectionpool:Starting new HTTP connection (1): 127.0.0.1:5000\n",
      "DEBUG:urllib3.connectionpool:http://127.0.0.1:5000 \"GET /api/label_account/get/wallet/tst_2024 HTTP/1.1\" 200 318\n"
     ]
    },
    {
     "name": "stdout",
     "output_type": "stream",
     "text": [
      "{'success': True, 'message': 'Labels retrieved successfully', 'data': {'labelsAccounts': {'_id': 'tst', 'labels': [{'_id': '1', 'label_name': 'Other', 'default': False, 'added_on': '2024-07-23T20:55:50.908000', 'updated_on': '2024-07-23T20:55:50.908000', 'balance': 0}, {'_id': '17217486522115', 'label_name': 'xyz', 'default': True, 'added_on': '2024-07-23T21:01:21.550000', 'updated_on': '2024-07-23T21:01:21.550000', 'balance': 0}], 'accounts': [{'_id': '0', 'account_name': 'Pocket', 'default': False, 'added_on': '2024-07-23T20:55:49.812000', 'updated_on': '2024-07-23T20:55:49.812000', 'balance': 0}, {'_id': '17217486522034', 'account_name': '1660', 'default': True, 'added_on': '2024-07-23T21:01:15.439000', 'updated_on': '2024-07-23T21:01:15.439000', 'balance': 0}]}}}\n"
     ]
    }
   ],
   "source": [
    "import requests\n",
    "\n",
    "url = \"http://127.0.0.1:5000/api/label_account/get/wallet/\"+walletId\n",
    "\n",
    "payload = {}\n",
    "headers = {\"Authorization\": \"Bearer \" + token}\n",
    "\n",
    "response = requests.request(\"GET\", url, headers=headers, data=payload).json()\n",
    "\n",
    "assert response[\"success\"] == True, response\n",
    "print(response)"
   ]
  },
  {
   "cell_type": "markdown",
   "metadata": {},
   "source": [
    "## 4. Tnx"
   ]
  },
  {
   "cell_type": "code",
   "execution_count": 57,
   "metadata": {},
   "outputs": [
    {
     "name": "stderr",
     "output_type": "stream",
     "text": [
      "DEBUG:urllib3.connectionpool:Starting new HTTP connection (1): localhost:5000\n",
      "DEBUG:urllib3.connectionpool:http://localhost:5000 \"POST /api/transaction/add/wallet/tst_2024 HTTP/1.1\" 200 133\n",
      "DEBUG:urllib3.connectionpool:Starting new HTTP connection (1): localhost:5000\n",
      "DEBUG:urllib3.connectionpool:http://localhost:5000 \"POST /api/transaction/add/wallet/tst_2024 HTTP/1.1\" 200 133\n",
      "DEBUG:urllib3.connectionpool:Starting new HTTP connection (1): localhost:5000\n",
      "DEBUG:urllib3.connectionpool:http://localhost:5000 \"POST /api/transaction/add/wallet/tst_2024 HTTP/1.1\" 200 133\n",
      "DEBUG:urllib3.connectionpool:Starting new HTTP connection (1): localhost:5000\n",
      "DEBUG:urllib3.connectionpool:http://localhost:5000 \"POST /api/transaction/add/wallet/tst_2024 HTTP/1.1\" 200 133\n",
      "DEBUG:urllib3.connectionpool:Starting new HTTP connection (1): localhost:5000\n",
      "DEBUG:urllib3.connectionpool:http://localhost:5000 \"POST /api/transaction/add/wallet/tst_2024 HTTP/1.1\" 200 133\n"
     ]
    }
   ],
   "source": [
    "import requests\n",
    "import json\n",
    "\n",
    "url = f\"http://localhost:5000/api/transaction/add/wallet/{walletId}\"\n",
    "\n",
    "\n",
    "def addTnx(comment, amt, accountId, labelId):\n",
    "    payload = json.dumps(\n",
    "        {\n",
    "            \"comment\": comment,\n",
    "            \"amt\": amt,\n",
    "            \"accountId\": accountId,\n",
    "            \"labelId\": labelId,\n",
    "        }\n",
    "    )\n",
    "    headers = {\"Authorization\": f\"Bearer {token}\", \"Content-Type\": \"application/json\"}\n",
    "\n",
    "    response = requests.request(\"POST\", url, headers=headers, data=payload).json()\n",
    "    assert response[\"success\"] == True, response\n",
    "    return response[\"data\"][\"transactionId\"]\n",
    "\n",
    "\n",
    "for i in range(1):\n",
    "    tnx_1 = addTnx(\"test 1\"+str(1)*i, 5000, account_7373_id, label_food_id)\n",
    "    tnx_2 = addTnx(\"test 2\"+str(2)*i, 2000, account_7373_id, \"1\")\n",
    "    tnx_3 = addTnx(\"test 3\"+str(3)*i, 1000, \"0\", label_food_id)\n",
    "    tnx_4 = addTnx(\"test 4\"+str(4)*i, -50, \"0\", \"1\")\n",
    "    tnx_5 = addTnx(\"test 5\"+str(5)*i, -100, \"0\", \"1\")\n",
    "\n",
    "# account_7373_id = 7000\n",
    "# label_food_id = 6000\n",
    "# \"0\" = 850\n",
    "# \"1\" = 1850\n"
   ]
  },
  {
   "cell_type": "code",
   "execution_count": 59,
   "metadata": {},
   "outputs": [
    {
     "name": "stderr",
     "output_type": "stream",
     "text": [
      "DEBUG:urllib3.connectionpool:Starting new HTTP connection (1): 127.0.0.1:5000\n",
      "DEBUG:urllib3.connectionpool:http://127.0.0.1:5000 \"PUT /api/transaction/17217515836838/edit/comment/wallet/tst_2024 HTTP/1.1\" 200 99\n",
      "DEBUG:urllib3.connectionpool:Starting new HTTP connection (1): 127.0.0.1:5000\n",
      "DEBUG:urllib3.connectionpool:http://127.0.0.1:5000 \"PUT /api/transaction/17217515862620/edit/comment/wallet/tst_2024 HTTP/1.1\" 200 99\n"
     ]
    },
    {
     "name": "stdout",
     "output_type": "stream",
     "text": [
      "{'success': True, 'message': 'Transaction comment edited successfully', 'data': None}\n",
      "{'success': True, 'message': 'Transaction comment edited successfully', 'data': None}\n"
     ]
    }
   ],
   "source": [
    "import requests\n",
    "import json\n",
    "\n",
    "\n",
    "def edit_transaction_comment(transaction_id, comment):\n",
    "    url = f\"http://127.0.0.1:5000/api/transaction/{transaction_id}/edit/comment/wallet/tst_2024\"\n",
    "\n",
    "    payload = json.dumps({\"comment\": comment})\n",
    "\n",
    "    headers = {\"Authorization\": f\"Bearer {token}\", \"Content-Type\": \"application/json\"}\n",
    "\n",
    "    response = requests.request(\"PUT\", url, headers=headers, data=payload).json()\n",
    "\n",
    "    if response[\"success\"] is not True:\n",
    "        raise ValueError(f\"Failed to edit comment: {response}\")\n",
    "\n",
    "    return response\n",
    "\n",
    "\n",
    "print(edit_transaction_comment(tnx_3, \"edit 3 comment\"))\n",
    "print(edit_transaction_comment(tnx_4, \"edit 4 comment\"))"
   ]
  },
  {
   "cell_type": "code",
   "execution_count": 60,
   "metadata": {},
   "outputs": [
    {
     "name": "stderr",
     "output_type": "stream",
     "text": [
      "DEBUG:urllib3.connectionpool:Starting new HTTP connection (1): 127.0.0.1:5000\n",
      "DEBUG:urllib3.connectionpool:http://127.0.0.1:5000 \"PUT /api/transaction/17217515836838/edit/labelname/wallet/tst_2024/ HTTP/1.1\" 307 0\n",
      "DEBUG:urllib3.connectionpool:http://127.0.0.1:5000 \"PUT /api/transaction/17217515836838/edit/labelname/wallet/tst_2024 HTTP/1.1\" 200 98\n"
     ]
    }
   ],
   "source": [
    "import requests\n",
    "import json\n",
    "\n",
    "\n",
    "def edit_transaction_label(transaction_id, new_label_id):\n",
    "    url = f\"http://127.0.0.1:5000/api/transaction/{transaction_id}/edit/labelname/wallet/{walletId}/\"\n",
    "\n",
    "    payload = json.dumps({\"newLabelId\": new_label_id})\n",
    "\n",
    "    headers = {\"Authorization\": f\"Bearer {token}\", \"Content-Type\": \"application/json\"}\n",
    "\n",
    "    response = requests.request(\"PUT\", url, headers=headers, data=payload).json()\n",
    "    assert response[\"success\"] == True, response\n",
    "    return response[\"data\"]\n",
    "\n",
    "\n",
    "edit_transaction_label(tnx_3, \"1\")\n",
    "\n",
    "# \"0\" = 850\n",
    "# account_7373_id = 7000\n",
    "\n",
    "# label_food_id = 5000\n",
    "# \"1\" = 2850"
   ]
  },
  {
   "cell_type": "code",
   "execution_count": 61,
   "metadata": {},
   "outputs": [
    {
     "name": "stderr",
     "output_type": "stream",
     "text": [
      "DEBUG:urllib3.connectionpool:Starting new HTTP connection (1): 127.0.0.1:5000\n",
      "DEBUG:urllib3.connectionpool:http://127.0.0.1:5000 \"DELETE /api/transaction/17217515862620/delete/wallet/tst_2024 HTTP/1.1\" 200 92\n"
     ]
    }
   ],
   "source": [
    "import requests\n",
    "\n",
    "def delete_transaction(transaction_id):\n",
    "    url = f\"http://127.0.0.1:5000/api/transaction/{transaction_id}/delete/wallet/{walletId}\"\n",
    "    \n",
    "    headers = {\n",
    "        'Authorization': f'Bearer {token}'\n",
    "    }\n",
    "    \n",
    "    response = requests.request(\"DELETE\", url, headers=headers).json()\n",
    "    assert response[\"success\"] == True, response\n",
    "    return response[\"data\"]\n",
    "\n",
    "delete_transaction(tnx_4)\n",
    "\n",
    " \n",
    "# \"0\" = 900\n",
    "# account_7373_id = 7000\n",
    "\n",
    "# label_food_id = 5000\n",
    "# \"1\" = 2900"
   ]
  },
  {
   "cell_type": "code",
   "execution_count": 68,
   "metadata": {},
   "outputs": [
    {
     "name": "stderr",
     "output_type": "stream",
     "text": [
      "DEBUG:urllib3.connectionpool:Starting new HTTP connection (1): localhost:5000\n"
     ]
    },
    {
     "name": "stderr",
     "output_type": "stream",
     "text": [
      "DEBUG:urllib3.connectionpool:http://localhost:5000 \"GET /api/transaction/get/wallet/tst_2024?page=1&limit=3 HTTP/1.1\" 200 478\n"
     ]
    },
    {
     "data": {
      "text/plain": [
       "{'transactions': {'page_data': [{'_id': '17217515887758',\n",
       "    'comment': 'test 5',\n",
       "    'account_id': '0',\n",
       "    'label_id': '1',\n",
       "    'added_on': '2024-07-23T21:49:48.775000',\n",
       "    'updated_on': '2024-07-23T21:49:48.775000',\n",
       "    'amt': -100.0},\n",
       "   {'_id': '17217515836838',\n",
       "    'comment': 'edit 3 comment',\n",
       "    'account_id': '0',\n",
       "    'label_id': '1',\n",
       "    'added_on': '2024-07-23T21:49:43.683000',\n",
       "    'updated_on': '2024-07-23T21:49:43.683000',\n",
       "    'amt': 1000.0},\n",
       "   {'_id': '17217515807315',\n",
       "    'comment': 'test 2',\n",
       "    'account_id': '17217486522034',\n",
       "    'label_id': '1',\n",
       "    'added_on': '2024-07-23T21:49:40.731000',\n",
       "    'updated_on': '2024-07-23T21:49:40.731000',\n",
       "    'amt': 2000.0}],\n",
       "  'page_information': {'total_data': 4,\n",
       "   'last_page': 2,\n",
       "   'current_page': 1,\n",
       "   'previous_page': None,\n",
       "   'next_page': 2},\n",
       "  'labelsAccounts': {'_id': 'tst',\n",
       "   'labels': [{'_id': '1', 'label_name': 'Other', 'default': False},\n",
       "    {'_id': '17217486522115', 'label_name': 'xyz', 'default': True}],\n",
       "   'accounts': [{'_id': '0', 'account_name': 'Pocket', 'default': False},\n",
       "    {'_id': '17217486522034', 'account_name': '1660', 'default': True}]}}}"
      ]
     },
     "execution_count": 68,
     "metadata": {},
     "output_type": "execute_result"
    }
   ],
   "source": [
    "import requests\n",
    "\n",
    "url = f\"http://localhost:5000/api/transaction/get/wallet/{walletId}?page=1&limit=3\"\n",
    "\n",
    "payload = {}\n",
    "headers = {\"Authorization\": \"Bearer \" + token}\n",
    "\n",
    "response = requests.request(\"GET\", url, headers=headers, data=payload).json()\n",
    "assert response[\"success\"] == True, response\n",
    "response[\"data\"]"
   ]
  },
  {
   "cell_type": "markdown",
   "metadata": {},
   "source": [
    "## 5. Get Balance"
   ]
  },
  {
   "cell_type": "code",
   "execution_count": 67,
   "metadata": {},
   "outputs": [
    {
     "name": "stderr",
     "output_type": "stream",
     "text": [
      "DEBUG:urllib3.connectionpool:Starting new HTTP connection (1): 127.0.0.1:5000\n",
      "DEBUG:urllib3.connectionpool:http://127.0.0.1:5000 \"GET /api/label_account/get/wallet/tst_2024 HTTP/1.1\" 200 330\n"
     ]
    },
    {
     "name": "stdout",
     "output_type": "stream",
     "text": [
      "{'success': True, 'message': 'Labels retrieved successfully', 'data': {'labelsAccounts': {'_id': 'tst', 'labels': [{'_id': '1', 'label_name': 'Other', 'default': False, 'added_on': '2024-07-23T20:55:50.908000', 'updated_on': '2024-07-23T20:55:50.908000', 'balance': 2900.0}, {'_id': '17217486522115', 'label_name': 'xyz', 'default': True, 'added_on': '2024-07-23T21:01:21.550000', 'updated_on': '2024-07-23T21:01:21.550000', 'balance': 5000.0}], 'accounts': [{'_id': '0', 'account_name': 'Pocket', 'default': False, 'added_on': '2024-07-23T20:55:49.812000', 'updated_on': '2024-07-23T20:55:49.812000', 'balance': 900.0}, {'_id': '17217486522034', 'account_name': '1660', 'default': True, 'added_on': '2024-07-23T21:01:15.439000', 'updated_on': '2024-07-23T21:01:15.439000', 'balance': 7000.0}]}}}\n",
      "All assertions passed.\n"
     ]
    }
   ],
   "source": [
    "import requests\n",
    "\n",
    "url = \"http://127.0.0.1:5000/api/label_account/get/wallet/\"+walletId\n",
    "\n",
    "payload = {}\n",
    "headers = {\"Authorization\": \"Bearer \" + token}\n",
    "\n",
    "response = requests.request(\"GET\", url, headers=headers, data=payload).json()\n",
    "\n",
    "assert response[\"success\"] == True, response\n",
    "print(response)\n",
    "\n",
    "\n",
    "# \"0\" = 900\n",
    "# account_7373_id = 7000\n",
    "\n",
    "# label_food_id = 5000\n",
    "# \"1\" = 2900\n",
    "\n",
    "\n",
    "labels=response[\"data\"]['labelsAccounts'][\"labels\"]\n",
    "accounts=response[\"data\"]['labelsAccounts'][\"accounts\"]\n",
    "\n",
    "\n",
    "\n",
    "account_id_0_balance = next(item for item in accounts if item['_id'] == '0')['balance']\n",
    "account_7373_id_balance = next(item for item in accounts if item['_id'] == account_7373_id)['balance']\n",
    "\n",
    "label_food_id_balance = next(item for item in labels if item['_id'] ==label_food_id)['balance']\n",
    "label_id_1_balance = next(item for item in labels if item['_id'] == '1')['balance']\n",
    "\n",
    "# Direct assertions\n",
    "assert account_id_0_balance == 900, f\"Expected 900, but got {account_id_0_balance}\"\n",
    "assert account_7373_id_balance == 7000, f\"Expected 7000, but got {account_7373_id_balance}\"\n",
    "\n",
    "assert label_food_id_balance == 5000, f\"Expected 5000, but got {label_food_id_balance}\"\n",
    "assert label_id_1_balance == 2900, f\"Expected 2900, but got {label_id_1_balance}\"\n",
    "\n",
    "print(\"All assertions passed.\")\n"
   ]
  },
  {
   "cell_type": "markdown",
   "metadata": {},
   "source": [
    "# Remove test Data from database"
   ]
  },
  {
   "cell_type": "code",
   "execution_count": null,
   "metadata": {},
   "outputs": [],
   "source": [
    "import time\n",
    "time.sleep(30)"
   ]
  },
  {
   "cell_type": "code",
   "execution_count": null,
   "metadata": {},
   "outputs": [
    {
     "data": {
      "text/plain": [
       "DeleteResult({'n': 1, 'electionId': ObjectId('7fffffff00000000000002b4'), 'opTime': {'ts': Timestamp(1721748320, 20), 't': 692}, 'ok': 1.0, '$clusterTime': {'clusterTime': Timestamp(1721748320, 20), 'signature': {'hash': b'\\xd0\\x02\\xf9\\x07\\x84\\xa0\\xc9\\xb9\\xefPW27\\x83\\xa3\\xbc4\\x99\\xac\\xcb', 'keyId': 7340669609369927820}}, 'operationTime': Timestamp(1721748320, 20)}, acknowledged=True)"
      ]
     },
     "execution_count": 22,
     "metadata": {},
     "output_type": "execute_result"
    }
   ],
   "source": [
    "from appConfig import ENV_VAR\n",
    "from pymongo import MongoClient\n",
    "\n",
    "userName=\"tst\"\n",
    "db_client = MongoClient(ENV_VAR.MONGO_DB_URL)\n",
    "\n",
    "db = db_client[\"ExpenseTrackerDb\"]\n",
    "\n",
    "db[\"WALLETS\"].delete_one({\"_id\": walletId})\n",
    "db[\"ACCOUNTS_AND_LABELS\"].delete_one({\"_id\": userName})"
   ]
  },
  {
   "cell_type": "markdown",
   "metadata": {},
   "source": [
    "# Other Query testing"
   ]
  },
  {
   "cell_type": "code",
   "execution_count": null,
   "metadata": {},
   "outputs": [],
   "source": [
    "from appConfig import ENV_VAR\n",
    "from pymongo import MongoClient,DESCENDING\n",
    "\n",
    "\n",
    "db_client = MongoClient(ENV_VAR.MONGO_DB_URL)\n",
    "\n",
    "db = db_client[\"ExpenseTrackerDb\"]"
   ]
  },
  {
   "cell_type": "code",
   "execution_count": 46,
   "metadata": {},
   "outputs": [
    {
     "name": "stdout",
     "output_type": "stream",
     "text": [
      "[{'sumByAccountId': [], 'sumByLabelId': []}]\n"
     ]
    }
   ],
   "source": [
    "def getSumOfAccountLabel(walletId: str):\n",
    "    openingBalances = db[\"WALLETS\"].find_one(walletId, {\"opening_balances\": 1})\n",
    "    balance = list(\n",
    "        db[\"WALLETS\"].aggregate(\n",
    "            [\n",
    "                {\"$match\": {\"_id\": walletId}},\n",
    "                {\"$project\": {\"transactions\": 1}},\n",
    "                {\"$unwind\": \"$transactions\"},\n",
    "                {\n",
    "                    \"$facet\": {\n",
    "                        \"sumByAccountId\": [\n",
    "                            {\n",
    "                                \"$group\": {\n",
    "                                    \"_id\": \"$transactions.account_id\",\n",
    "                                    \"totalAmt\": {\"$sum\": \"$transactions.amt\"},\n",
    "                                },\n",
    "                            },\n",
    "                            {\"$project\": {\"totalAmt\": {\"$round\": [\"$totalAmt\", 2]}}},\n",
    "                        ],\n",
    "                        \"sumByLabelId\": [\n",
    "                            {\n",
    "                                \"$group\": {\n",
    "                                    \"_id\": \"$transactions.label_id\",\n",
    "                                    \"totalAmt\": {\"$sum\": \"$transactions.amt\"},\n",
    "                                }\n",
    "                            },\n",
    "                            {\"$project\": {\"totalAmt\": {\"$round\": [\"$totalAmt\", 2]}}},\n",
    "                        ],\n",
    "                    }\n",
    "                },\n",
    "            ]\n",
    "        )\n",
    "    )\n",
    "\n",
    "    def add_opening_balances(wallet, balance):\n",
    "        opening_balances_map = {\n",
    "            ob[\"_id\"]: ob[\"balance\"] for ob in wallet[\"opening_balances\"]\n",
    "        }\n",
    "\n",
    "        for entry in balance:\n",
    "            for account in entry[\"sumByAccountId\"]:\n",
    "                if account[\"_id\"] in opening_balances_map:\n",
    "                    account[\"totalAmt\"] += opening_balances_map[account[\"_id\"]]\n",
    "                    account[\"totalAmt\"] = round(account[\"totalAmt\"], 2)\n",
    "\n",
    "            for label in entry[\"sumByLabelId\"]:\n",
    "                if label[\"_id\"] in opening_balances_map:\n",
    "                    label[\"totalAmt\"] += opening_balances_map[label[\"_id\"]]\n",
    "                    label[\"totalAmt\"] = round(label[\"totalAmt\"], 2)\n",
    "\n",
    "    add_opening_balances(openingBalances, balance)\n",
    "    return balance\n",
    "\n",
    "print(getSumOfAccountLabel(\"tst_2024\"))"
   ]
  },
  {
   "cell_type": "code",
   "execution_count": null,
   "metadata": {},
   "outputs": [],
   "source": [
    "[\n",
    "    {\n",
    "        \"sumByAccountId\": [\n",
    "            {\"_id\": \"18020981994327\", \"totalAmt\": 8491.73},\n",
    "            {\"_id\": \"67541031723530\", \"totalAmt\": 2097.93},\n",
    "            {\"_id\": \"42803670438172\", \"totalAmt\": 265},\n",
    "            {\"_id\": \"10012280149706\", \"totalAmt\": 792.57},\n",
    "        ],\n",
    "        \"sumByLabelId\": [\n",
    "            {\"_id\": \"14114676785531\", \"totalAmt\": -36675.47},\n",
    "            {\"_id\": \"12729454377459\", \"totalAmt\": -820},\n",
    "            {\"_id\": \"12395957276948\", \"totalAmt\": -1318.47},\n",
    "            {\"_id\": \"34659394628153\", \"totalAmt\": -510.0},\n",
    "            {\"_id\": \"25244734299491\", \"totalAmt\": -13458.78},\n",
    "            {\"_id\": \"30557606807397\", \"totalAmt\": -15124.14},\n",
    "            {\"_id\": \"38495175942142\", \"totalAmt\": 36576},\n",
    "            {\"_id\": \"31323554562404\", \"totalAmt\": 1},\n",
    "            {\"_id\": \"63778844582950\", \"totalAmt\": -331319.97},\n",
    "            {\"_id\": \"25743670099813\", \"totalAmt\": -954.8},\n",
    "            {\"_id\": \"68452654875555\", \"totalAmt\": 838},\n",
    "            {\"_id\": \"33464679881935\", \"totalAmt\": -180},\n",
    "            {\"_id\": \"77260949747620\", \"totalAmt\": -90},\n",
    "            {\"_id\": \"33235844425962\", \"totalAmt\": 10630.1},\n",
    "            {\"_id\": \"10016570413291\", \"totalAmt\": 365515},\n",
    "            {\"_id\": \"15797032244491\", \"totalAmt\": -1286},\n",
    "            {\"_id\": \"14902088892166\", \"totalAmt\": 146},\n",
    "            {\"_id\": \"33633078927509\", \"totalAmt\": -9292.95},\n",
    "            {\"_id\": \"19325320277570\", \"totalAmt\": -4990},\n",
    "        ],\n",
    "    }\n",
    "]"
   ]
  },
  {
   "cell_type": "code",
   "execution_count": null,
   "metadata": {},
   "outputs": [],
   "source": [
    "def get_filtered_transactions(\n",
    "    username, search_term=None, account_id=None, label_id=None, limit=10\n",
    "):\n",
    "    # Define the base of the aggregation pipeline\n",
    "    pipeline = [{\"$match\": {\"username\": username}}, {\"$unwind\": \"$transactions\"}]\n",
    "\n",
    "    # Add match conditions for account_id, label_id, and search_term\n",
    "    match_conditions = []\n",
    "    if account_id:\n",
    "        match_conditions.append({\"transactions.account_id\": account_id})\n",
    "    if label_id:\n",
    "        match_conditions.append({\"transactions.label_id\": label_id})\n",
    "    if search_term:\n",
    "        match_conditions.append(\n",
    "            {\"transactions.comment\": {\"$regex\": search_term, \"$options\": \"i\"}}\n",
    "        )\n",
    "\n",
    "    if match_conditions:\n",
    "        pipeline.append({\"$match\": {\"$and\": match_conditions}})\n",
    "\n",
    "    # Sort by the added_on field in descending order\n",
    "    pipeline.append({\"$sort\": {\"transactions.added_on\": -1}})\n",
    "\n",
    "    # Limit the number of transactions\n",
    "    pipeline.append({\"$limit\": limit})\n",
    "\n",
    "    # Project only the transactions field\n",
    "    pipeline.append({\"$project\": {\"transactions\": 1}})\n",
    "\n",
    "    # Perform the aggregation\n",
    "    result = list(db[\"WALLETS\"].aggregate(pipeline))\n",
    "    return result\n",
    "\n",
    "\n",
    "# Example usage\n",
    "username = \"dhruv4023\"\n",
    "search_term = \"empty\"\n",
    "account_id = \"67541031723530\"\n",
    "label_id = \"33235844425962\"\n",
    "\n",
    "# Filtering based on username, search_term, account_id, and label_id\n",
    "transactions = get_filtered_transactions(\n",
    "    username, search_term, account_id, label_id, limit=10\n",
    ")\n",
    "print(transactions)\n",
    "\n",
    "# Filtering based on username and search_term\n",
    "transactions = get_filtered_transactions(username, search_term=search_term, limit=10)\n",
    "print(transactions)\n",
    "\n",
    "# Filtering based on username and account_id\n",
    "transactions = get_filtered_transactions(username, account_id=account_id, limit=10)\n",
    "print(transactions)\n",
    "\n",
    "# Filtering based on username and label_id\n",
    "transactions = get_filtered_transactions(username, label_id=label_id, limit=10)\n",
    "print(transactions)"
   ]
  },
  {
   "cell_type": "markdown",
   "metadata": {},
   "source": [
    "### 1. retrive data base on given time period\n",
    "\n",
    "*query to the mongodb bot:* `write query to retrive transactions based on given date constrains and username=dhruv4023 between dec 23 and jan 24  add limit`\n"
   ]
  },
  {
   "cell_type": "code",
   "execution_count": null,
   "metadata": {},
   "outputs": [],
   "source": [
    "list(db[\"WALLETS\"].aggregate([\n",
    "    {\n",
    "        '$match': {\n",
    "            'username': 'dhruv4023', \n",
    "            'transactions.added_on': {\n",
    "                '$gte': '2023-12-01T00:00:00Z', \n",
    "                '$lte': '2024-01-31T23:59:59Z'\n",
    "            }\n",
    "        }\n",
    "    }, {\n",
    "        '$unwind': '$transactions'\n",
    "    }, {\n",
    "        '$match': {\n",
    "            'transactions.added_on': {\n",
    "                '$gte': '2023-12-27T00:00:00Z', \n",
    "                '$lte': '2024-01-31T23:59:59Z'\n",
    "            }\n",
    "        }\n",
    "    }, {\n",
    "        '$limit': 3\n",
    "    }, {\n",
    "        '$project': {\n",
    "            'transaction_id': '$transactions._id', \n",
    "            'comment': '$transactions.comment', \n",
    "            'account_id': '$transactions.account_id', \n",
    "            'label_id': '$transactions.label_id', \n",
    "            'amt': '$transactions.amt', \n",
    "            'added_on': '$transactions.added_on', \n",
    "            'updated_on': '$transactions.updated_on'\n",
    "        }\n",
    "    }\n",
    "]))"
   ]
  },
  {
   "cell_type": "markdown",
   "metadata": {},
   "source": [
    "### 2. retrive sum of debits and credit data per month for given time period\n",
    "\n",
    "\n",
    "*query to the mongodb bot:* `get sum of debits and credit per month for specific time period based on username=dhruv4023`"
   ]
  },
  {
   "cell_type": "code",
   "execution_count": null,
   "metadata": {},
   "outputs": [],
   "source": [
    "list(db[\"WALLETS\"].aggregate([\n",
    "    {\n",
    "        '$match': {\n",
    "            'username': 'dhruv4023', \n",
    "            'year': {\n",
    "                '$gte': '2021', \n",
    "                '$lte': '2021'\n",
    "            }\n",
    "        }\n",
    "    }, {\n",
    "        '$unwind': '$transactions'\n",
    "    }, {\n",
    "        '$group': {\n",
    "            '_id': {\n",
    "                'year': {\n",
    "                    '$substr': [\n",
    "                        '$transactions.added_on', 0, 4\n",
    "                    ]\n",
    "                }, \n",
    "                'month': {\n",
    "                    '$substr': [\n",
    "                        '$transactions.added_on', 5, 2\n",
    "                    ]\n",
    "                }, \n",
    "                'username': '$username'\n",
    "            }, \n",
    "            'totalDebits': {\n",
    "                '$sum': {\n",
    "                    '$cond': [\n",
    "                        {\n",
    "                            '$lt': [\n",
    "                                '$transactions.amt', 0\n",
    "                            ]\n",
    "                        }, '$transactions.amt', 0\n",
    "                    ]\n",
    "                }\n",
    "            }, \n",
    "            'totalCredits': {\n",
    "                '$sum': {\n",
    "                    '$cond': [\n",
    "                        {\n",
    "                            '$gt': [\n",
    "                                '$transactions.amt', 0\n",
    "                            ]\n",
    "                        }, '$transactions.amt', 0\n",
    "                    ]\n",
    "                }\n",
    "            }\n",
    "        }\n",
    "    }, {\n",
    "        '$project': {\n",
    "            'year': '$_id.year', \n",
    "            'month': '$_id.month', \n",
    "            'username': '$_id.username', \n",
    "            'totalDebits': 1, \n",
    "            'totalCredits': 1\n",
    "        }\n",
    "    }, {\n",
    "        '$sort': {\n",
    "            'year': 1, \n",
    "            'month': 1\n",
    "        }\n",
    "    }\n",
    "]))"
   ]
  },
  {
   "cell_type": "markdown",
   "metadata": {},
   "source": [
    "### 3.get sum of debits and credit per month for specific time period based on username=dhruv4023"
   ]
  },
  {
   "cell_type": "code",
   "execution_count": null,
   "metadata": {},
   "outputs": [],
   "source": [
    "# \n",
    "\n",
    "list(\n",
    "    db[\"WALLETS\"].aggregate(\n",
    "        [\n",
    "            {\"$match\": {\"username\": \"dhruv4023\"}},\n",
    "            {\"$unwind\": \"$transactions\"},\n",
    "            {\n",
    "                \"$group\": {\n",
    "                    \"_id\": {\"$substr\": [\"$transactions.added_on\", 0, 7]},\n",
    "                    \"totalDebits\": {\n",
    "                        \"$sum\": {\n",
    "                            \"$cond\": [\n",
    "                                {\"$lt\": [\"$transactions.amt\", 0]},\n",
    "                                \"$transactions.amt\",\n",
    "                                0,\n",
    "                            ]\n",
    "                        }\n",
    "                    },\n",
    "                    \"totalCredits\": {\n",
    "                        \"$sum\": {\n",
    "                            \"$cond\": [\n",
    "                                {\"$gt\": [\"$transactions.amt\", 0]},\n",
    "                                \"$transactions.amt\",\n",
    "                                0,\n",
    "                            ]\n",
    "                        }\n",
    "                    },\n",
    "                }\n",
    "            },\n",
    "            {\"$sort\": {\"_id\": 1}},\n",
    "        ]\n",
    "    )\n",
    ")"
   ]
  },
  {
   "cell_type": "markdown",
   "metadata": {},
   "source": [
    "### 4 Search all tnx using comment txt \n",
    "\n",
    "**query**: `find all transactions where comment include word \"kirtan\" and username=dhruv4023 also include limit  i want to search in reverse order of tnx `"
   ]
  },
  {
   "cell_type": "code",
   "execution_count": null,
   "metadata": {},
   "outputs": [],
   "source": [
    "def get_recent_transactions(username, search_term, limit=5):    \n",
    "    # Define the aggregation pipeline\n",
    "    pipeline = [\n",
    "        {\"$match\": {\"username\": username}},\n",
    "        {\"$unwind\": \"$transactions\"},\n",
    "        {\"$match\": {\"transactions.comment\": {\"$regex\": search_term, \"$options\": \"i\"}}},\n",
    "        {\"$sort\": {\"transactions.added_on\": -1}},\n",
    "        {\"$limit\": limit},\n",
    "        {\"$project\": {\"transactions\": 1}},\n",
    "    ]\n",
    "    \n",
    "    # Perform the aggregation\n",
    "    result = list(db[\"WALLETS\"].aggregate(pipeline))    \n",
    "    return result\n",
    "\n",
    "# Example usage\n",
    "username = \"dhruv4023\"\n",
    "search_term = \"kirtan\"\n",
    "transactions = get_recent_transactions(username, search_term,100)\n",
    "print((transactions))"
   ]
  },
  {
   "cell_type": "markdown",
   "metadata": {},
   "source": [
    "### 5. find documents using account_id and label_id and username=dhruv4023 where one of account_id and label_id can be optionall  label_id=31691436436068 accountid=10124415466546"
   ]
  },
  {
   "cell_type": "code",
   "execution_count": null,
   "metadata": {},
   "outputs": [],
   "source": [
    "def search_transaction_based_on_labnel_id_or_account_id(username, account_id=None, label_id=None, limit=5):\n",
    "    pipeline = [\n",
    "        {\"$match\": {\"username\": username}},\n",
    "        {\"$unwind\": \"$transactions\"}\n",
    "    ]\n",
    "\n",
    "    match_conditions = []\n",
    "    if account_id:\n",
    "        match_conditions.append({\"transactions.account_id\": account_id})\n",
    "    if label_id:\n",
    "        match_conditions.append({\"transactions.label_id\": label_id})\n",
    "\n",
    "    if match_conditions:\n",
    "        pipeline.append({\"$match\": {\"$or\": match_conditions}})\n",
    "\n",
    "    pipeline.append({\"$limit\": limit})\n",
    "\n",
    "    return list(db[\"WALLETS\"].aggregate(pipeline))\n",
    "\n",
    "# Example usage\n",
    "username = \"dhruv4023\"\n",
    "account_id = \"10124415466546\"\n",
    "label_id = \"31691436436068\"\n",
    "\n",
    "# Both account_id and label_id\n",
    "transactions = search_transaction_based_on_labnel_id_or_account_id(username, account_id, label_id)\n",
    "print((transactions))\n",
    "\n",
    "# Only account_id\n",
    "transactions = search_transaction_based_on_labnel_id_or_account_id(username, account_id)\n",
    "print((transactions))\n",
    "\n",
    "# Only label_id\n",
    "transactions = search_transaction_based_on_labnel_id_or_account_id(username, label_id=label_id)\n",
    "print((transactions))"
   ]
  },
  {
   "cell_type": "markdown",
   "metadata": {},
   "source": [
    "### Other "
   ]
  },
  {
   "cell_type": "code",
   "execution_count": null,
   "metadata": {},
   "outputs": [],
   "source": [
    "# list(\n",
    "#     db[\"WALLETS\"].aggregate(\n",
    "#         [\n",
    "#             {\"$match\": {\"username\": \"dhruv4023\"}},\n",
    "#             {\n",
    "#                 \"$project\": {\n",
    "#                     \"transactions\": {\n",
    "#                         \"$filter\": {\n",
    "#                             \"input\": \"$transactions\",\n",
    "#                             \"as\": \"transaction\",\n",
    "#                             \"cond\": {\n",
    "#                                 \"$and\": [\n",
    "#                                     {\"$gte\": [\"$$transaction.added_on\", \"2024-01-01\"]},\n",
    "#                                     {\"$lt\": [\"$$transaction.added_on\", \"2024-02-01\"]},\n",
    "#                                 ]\n",
    "#                             },\n",
    "#                         }\n",
    "#                     }\n",
    "#                 }\n",
    "#             },\n",
    "#         ]\n",
    "#     )\n",
    "# )"
   ]
  },
  {
   "cell_type": "code",
   "execution_count": null,
   "metadata": {},
   "outputs": [],
   "source": [
    "# list(db[\"WALLETS\"].aggregate(\n",
    "#     [\n",
    "#         {\n",
    "#             \"$match\": {\n",
    "#                 \"username\": \"dhruv4023\",\n",
    "#                 \"transactions.added_on\": {\n",
    "#                     \"$gte\": \"2024-07-01T00:00:00Z\",\n",
    "#                     \"$lte\": \"2024-07-18T11:33:10Z\",\n",
    "#                 },\n",
    "#             }\n",
    "#         },\n",
    "#         {\"$unwind\": \"$transactions\"},\n",
    "#         {\n",
    "#             \"$match\": {\n",
    "#                 \"transactions.added_on\": {\n",
    "#                     \"$gte\": \"2023-12-25T00:00:00Z\",\n",
    "#                     \"$lte\": \"2024-01-10T11:33:10Z\",\n",
    "#                 }\n",
    "#             }\n",
    "#         },\n",
    "#         {\"$project\": {\"transactions\": 1, \"_id\": 0}},\n",
    "#     ]\n",
    "# ))"
   ]
  }
 ],
 "metadata": {
  "kernelspec": {
   "display_name": ".venv",
   "language": "python",
   "name": "python3"
  },
  "language_info": {
   "codemirror_mode": {
    "name": "ipython",
    "version": 3
   },
   "file_extension": ".py",
   "mimetype": "text/x-python",
   "name": "python",
   "nbconvert_exporter": "python",
   "pygments_lexer": "ipython3",
   "version": "3.9.13"
  }
 },
 "nbformat": 4,
 "nbformat_minor": 2
}
