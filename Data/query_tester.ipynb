{
 "cells": [
  {
   "cell_type": "code",
   "execution_count": 1,
   "metadata": {},
   "outputs": [],
   "source": [
    "COLLECTIONS = {\n",
    "    \"USERS\": \"users\",\n",
    "    \"WALLETS\": \"wallets\",\n",
    "}"
   ]
  },
  {
   "cell_type": "code",
   "execution_count": 2,
   "metadata": {},
   "outputs": [],
   "source": [
    "from datetime import datetime\n",
    "from pymongo import MongoClient\n",
    "import os\n",
    "from dotenv import load_dotenv\n",
    "\n",
    "load_dotenv()\n",
    "\n",
    "MONGO_DB_URL = os.environ.get(\"MONGO_DB_URL\")\n",
    "\n",
    "db_client = MongoClient(MONGO_DB_URL)\n",
    "\n",
    "db = db_client[\"ExpenseTrackerDb\"]\n",
    "\n",
    "# All collections\n",
    "users = db[COLLECTIONS[\"USERS\"]]\n",
    "wallets = db[COLLECTIONS[\"WALLETS\"]]"
   ]
  },
  {
   "cell_type": "code",
   "execution_count": 7,
   "metadata": {},
   "outputs": [
    {
     "data": {
      "text/plain": [
       "[{'_id': '0', 'totalAmt': 47500.0},\n",
       " {'_id': '17206003929879', 'totalAmt': -500.0}]"
      ]
     },
     "execution_count": 7,
     "metadata": {},
     "output_type": "execute_result"
    }
   ],
   "source": [
    "list(\n",
    "    wallets.aggregate(\n",
    "        [\n",
    "            {\n",
    "                \"$match\": {\n",
    "                    \"_id\": \"dhruv40123_2024\",\n",
    "                    \"transactions.account_id\": \"17206003929879\",\n",
    "                }\n",
    "            },\n",
    "            {\"$unwind\": \"$transactions\"},\n",
    "            {\n",
    "                \"$group\": {\n",
    "                    \"_id\": \"$transactions.account_id\",\n",
    "                    # \"_id\": \"$transactions.label_id\",\n",
    "                    \"totalAmt\": {\"$sum\": \"$transactions.amt\"},\n",
    "                }\n",
    "            },\n",
    "        ]\n",
    "    )\n",
    ")"
   ]
  },
  {
   "cell_type": "code",
   "execution_count": 11,
   "metadata": {},
   "outputs": [
    {
     "data": {
      "text/plain": [
       "[{'sumByAccountId': [{'_id': '95815035667623', 'totalAmt': -218},\n",
       "   {'_id': '23572609217926', 'totalAmt': -11780.11},\n",
       "   {'_id': '30475277032367', 'totalAmt': 27434.949999999997},\n",
       "   {'_id': '11090656278517', 'totalAmt': 875.3600000000024}],\n",
       "  'sumByLabelId': [{'_id': '19348971623421', 'totalAmt': -510.0},\n",
       "   {'_id': '33680029317303', 'totalAmt': 1.0},\n",
       "   {'_id': '13783323247880', 'totalAmt': 372364.0},\n",
       "   {'_id': '27881979074978', 'totalAmt': -326089.53},\n",
       "   {'_id': '88782068785594', 'totalAmt': -770},\n",
       "   {'_id': '22022736347047', 'totalAmt': -13270.78},\n",
       "   {'_id': '11591757165154', 'totalAmt': -8488.95},\n",
       "   {'_id': '81531160069637', 'totalAmt': -15634.9},\n",
       "   {'_id': '30076873687874', 'totalAmt': 11944.1},\n",
       "   {'_id': '16675057461248', 'totalAmt': 146},\n",
       "   {'_id': '19665021356128', 'totalAmt': -1318.47},\n",
       "   {'_id': '75792318453930', 'totalAmt': -1286},\n",
       "   {'_id': '18434445519331', 'totalAmt': -896.8},\n",
       "   {'_id': '21911867965355', 'totalAmt': 36576.0},\n",
       "   {'_id': '29193496311798', 'totalAmt': -31463.47},\n",
       "   {'_id': '19315605955189', 'totalAmt': -4990}]}]"
      ]
     },
     "execution_count": 11,
     "metadata": {},
     "output_type": "execute_result"
    }
   ],
   "source": [
    "list(\n",
    "    wallets.aggregate(\n",
    "        [\n",
    "            {\"$match\": {\"_id\": \"dhruv4023_2024\"}},\n",
    "            {\"$unwind\": \"$transactions\"},\n",
    "            {\n",
    "                \"$facet\": {\n",
    "                    \"sumByAccountId\": [\n",
    "                        {\n",
    "                            \"$group\": {\n",
    "                                \"_id\": \"$transactions.account_id\",\n",
    "                                \"totalAmt\": {\"$sum\": \"$transactions.amt\"},\n",
    "                            }\n",
    "                        }\n",
    "                    ],\n",
    "                    \"sumByLabelId\": [\n",
    "                        {\n",
    "                            \"$group\": {\n",
    "                                \"_id\": \"$transactions.label_id\",\n",
    "                                \"totalAmt\": {\"$sum\": \"$transactions.amt\"},\n",
    "                            }\n",
    "                        }\n",
    "                    ],\n",
    "                }\n",
    "            },\n",
    "        ]\n",
    "    )\n",
    ")"
   ]
  },
  {
   "cell_type": "code",
   "execution_count": null,
   "metadata": {},
   "outputs": [],
   "source": []
  }
 ],
 "metadata": {
  "kernelspec": {
   "display_name": ".venv",
   "language": "python",
   "name": "python3"
  },
  "language_info": {
   "codemirror_mode": {
    "name": "ipython",
    "version": 3
   },
   "file_extension": ".py",
   "mimetype": "text/x-python",
   "name": "python",
   "nbconvert_exporter": "python",
   "pygments_lexer": "ipython3",
   "version": "3.9.13"
  }
 },
 "nbformat": 4,
 "nbformat_minor": 2
}
